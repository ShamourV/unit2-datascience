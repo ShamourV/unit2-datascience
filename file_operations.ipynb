{
 "cells": [
  {
   "cell_type": "markdown",
   "metadata": {},
   "source": [
    "# File Operations\n",
    "In this excercise you will begin working on using the `open` function within python to manipulate files and create reports on those files.\n",
    "\n",
    "**YOU ARE TO INCLUDE COMMENTS ALONG SIDE YOUR CODE**"
   ]
  },
  {
   "cell_type": "markdown",
   "metadata": {},
   "source": [
    "1. Open the file \"states.txt\" that you downloaded, what does this file contain?\n",
    "```\n",
    "This file contains 1000 lines of states.\n",
    "```"
   ]
  },
  {
   "cell_type": "markdown",
   "metadata": {},
   "source": [
    "\n",
    "*Use the code block below to open the same file, using a `for` loop print each line to the console.*"
   ]
  },
  {
   "cell_type": "code",
   "execution_count": null,
   "metadata": {
    "vscode": {
     "languageId": "plaintext"
    }
   },
   "outputs": [],
   "source": []
  },
  {
   "cell_type": "markdown",
   "metadata": {},
   "source": [
    "2. What type of chart would be best to represent this data? Explain why\n",
    "```\n",
    "A bar chart so that we could measure all of the states individually.\n",
    "```\n",
    "3. How would we need to transform the data we have, to be displayed in this chart?\n",
    "```\n",
    "We would need a for loop.\n",
    "```"
   ]
  },
  {
   "cell_type": "markdown",
   "metadata": {},
   "source": [
    "Using your knowledge of Python and Matplotlib write your code to transform and graph the data below.\n",
    "\n",
    "After your code create a new Markdown block to describe your analysis"
   ]
  },
  {
   "cell_type": "code",
   "execution_count": null,
   "metadata": {
    "vscode": {
     "languageId": "plaintext"
    }
   },
   "outputs": [],
   "source": [
    "import matplotlib.pylot as plt\n",
    "\n",
    "states = open(\"states.txt\")\n",
    "NY=0\n",
    "FL=0\n",
    "MO=0\n",
    "OK=0\n",
    "NJ=0\n",
    "\n",
    "for items in states.readlines():\n",
    "        if x == \"NY\\n\":\n",
    "            NY +=1\n",
    "    if x == \"FL\\n\":\n",
    "        FL +=1\n",
    "    if x == \"MO\\n\":\n",
    "        MO +=1\n",
    "    if x == \"OK\\n\":\n",
    "        OK +=1\n",
    "    if x == \"NJ\\n\":\n",
    "        NJ +=1\n",
    "\n",
    "print()\n",
    "\n",
    "labels= 'NY', 'FL', 'MO', 'OK', 'NJ'\n",
    "sizes= [NY,FL,MO,OK,NJ]\n",
    "ax =plt.subplots()\n",
    "ax.pie(sizes, labels=labels)\n",
    "plt.title('which is better from a numerous vote')\n",
    "\n"
   ]
  }
 ],
 "metadata": {
  "language_info": {
   "name": "python"
  }
 },
 "nbformat": 4,
 "nbformat_minor": 2
}
